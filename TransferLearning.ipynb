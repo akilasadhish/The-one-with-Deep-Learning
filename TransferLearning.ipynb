{
  "nbformat": 4,
  "nbformat_minor": 0,
  "metadata": {
    "colab": {
      "name": "TransferLearning.ipynb",
      "provenance": [],
      "collapsed_sections": [],
      "machine_shape": "hm",
      "include_colab_link": true
    },
    "kernelspec": {
      "name": "python3",
      "display_name": "Python 3"
    },
    "accelerator": "GPU"
  },
  "cells": [
    {
      "cell_type": "markdown",
      "metadata": {
        "id": "view-in-github",
        "colab_type": "text"
      },
      "source": [
        "<a href=\"https://colab.research.google.com/github/balajikulkarni/The-one-with-Deep-Learning/blob/master/TransferLearning.ipynb\" target=\"_parent\"><img src=\"https://colab.research.google.com/assets/colab-badge.svg\" alt=\"Open In Colab\"/></a>"
      ]
    },
    {
      "cell_type": "code",
      "metadata": {
        "id": "km_G0JdQyuDS",
        "colab_type": "code",
        "colab": {}
      },
      "source": [
        "import numpy as np\n",
        "\n",
        "\n",
        "def get_random_eraser(p=0.5, s_l=0.02, s_h=0.4, r_1=0.3, r_2=1/0.3, v_l=0, v_h=255, pixel_level=False):\n",
        "    def eraser(input_img):\n",
        "        img_h, img_w, img_c = input_img.shape\n",
        "        p_1 = np.random.rand()\n",
        "\n",
        "        if p_1 > p:\n",
        "            return input_img\n",
        "\n",
        "        while True:\n",
        "            s = np.random.uniform(s_l, s_h) * img_h * img_w\n",
        "            r = np.random.uniform(r_1, r_2)\n",
        "            w = int(np.sqrt(s / r))\n",
        "            h = int(np.sqrt(s * r))\n",
        "            left = np.random.randint(0, img_w)\n",
        "            top = np.random.randint(0, img_h)\n",
        "\n",
        "            if left + w <= img_w and top + h <= img_h:\n",
        "                break\n",
        "\n",
        "        if pixel_level:\n",
        "            c = np.random.uniform(v_l, v_h, (h, w, img_c))\n",
        "        else:\n",
        "            c = np.random.uniform(v_l, v_h)\n",
        "\n",
        "        input_img[top:top + h, left:left + w, :] = c\n",
        "\n",
        "        return input_img\n",
        "\n",
        "    return eraser"
      ],
      "execution_count": 0,
      "outputs": []
    },
    {
      "cell_type": "code",
      "metadata": {
        "id": "X4EMAANwO9E-",
        "colab_type": "code",
        "outputId": "73f0d5b6-0df4-4b87-f0db-2ff75ab1316c",
        "colab": {
          "base_uri": "https://localhost:8080/",
          "height": 34
        }
      },
      "source": [
        "from tensorflow.keras.applications.resnet50 import ResNet50, preprocess_input\n",
        "import tensorflow.keras as keras\n",
        "from tensorflow.keras.models import Model, Sequential\n",
        "from tensorflow.keras.layers import Input, UpSampling2D, Flatten, BatchNormalization, Dense, Dropout, GlobalAveragePooling2D\n",
        "from tensorflow.keras import optimizers\n",
        "from keras.datasets import cifar100\n",
        "import tensorflow as tf\n",
        "from keras.utils import np_utils\n",
        "import numpy as np\n",
        "import matplotlib.pyplot as plt\n",
        "import time\n",
        "from skimage.transform import resize\n",
        "from keras.applications.resnet50 import preprocess_input, decode_predictions\n",
        "from keras.preprocessing.image import ImageDataGenerator"
      ],
      "execution_count": 2,
      "outputs": [
        {
          "output_type": "stream",
          "text": [
            "Using TensorFlow backend.\n"
          ],
          "name": "stderr"
        }
      ]
    },
    {
      "cell_type": "code",
      "metadata": {
        "id": "G_9TU3oKRvHw",
        "colab_type": "code",
        "outputId": "6fd5f7b7-6f79-4ff3-e39b-d22a941adde4",
        "colab": {
          "base_uri": "https://localhost:8080/",
          "height": 50
        }
      },
      "source": [
        "num_classes = 100\n",
        "nb_epochs = 10\n",
        "\n",
        "(x_train, y_train), (x_test, y_test) = cifar100.load_data()\n",
        "\n",
        "#Pre-process the data\n",
        "x_train = preprocess_input(x_train)\n",
        "x_test = preprocess_input(x_test)\n",
        "\n",
        "datagen = ImageDataGenerator(preprocessing_function=get_random_eraser(v_l=0, v_h=1, pixel_level=True))\n",
        "datagen.fit(x_train)"
      ],
      "execution_count": 3,
      "outputs": [
        {
          "output_type": "stream",
          "text": [
            "Downloading data from https://www.cs.toronto.edu/~kriz/cifar-100-python.tar.gz\n",
            "169009152/169001437 [==============================] - 2s 0us/step\n"
          ],
          "name": "stdout"
        }
      ]
    },
    {
      "cell_type": "code",
      "metadata": {
        "id": "KMsXhd1IW0nM",
        "colab_type": "code",
        "colab": {}
      },
      "source": [
        "y_train = np_utils.to_categorical(y_train, num_classes)\n",
        "y_test = np_utils.to_categorical(y_test, num_classes)"
      ],
      "execution_count": 0,
      "outputs": []
    },
    {
      "cell_type": "code",
      "metadata": {
        "id": "tYelN4gNTPAY",
        "colab_type": "code",
        "outputId": "d30e762c-4fc5-4e50-ec69-ab7108fb7921",
        "colab": {
          "base_uri": "https://localhost:8080/",
          "height": 121
        }
      },
      "source": [
        "resnet_model = ResNet50(weights='imagenet', include_top=False, input_shape=(200, 200, 3))\n",
        "\n",
        "for layer in resnet_model.layers:\n",
        "    if isinstance(layer, BatchNormalization):\n",
        "        layer.trainable = True\n",
        "    else:\n",
        "        layer.trainable = False\n",
        "\n",
        "model = Sequential()\n",
        "model.add(UpSampling2D())\n",
        "model.add(UpSampling2D())\n",
        "model.add(UpSampling2D())\n",
        "model.add(resnet_model)\n",
        "model.add(GlobalAveragePooling2D())\n",
        "model.add(Dense(256, activation='relu'))\n",
        "model.add(Dropout(0.3))\n",
        "model.add(BatchNormalization())\n",
        "model.add(Dense(128, activation='relu'))\n",
        "model.add(Dropout(0.3))\n",
        "model.add(BatchNormalization())\n",
        "model.add(Dense(num_classes, activation='softmax'))"
      ],
      "execution_count": 5,
      "outputs": [
        {
          "output_type": "stream",
          "text": [
            "WARNING:tensorflow:From /usr/local/lib/python3.6/dist-packages/tensorflow_core/python/ops/resource_variable_ops.py:1630: calling BaseResourceVariable.__init__ (from tensorflow.python.ops.resource_variable_ops) with constraint is deprecated and will be removed in a future version.\n",
            "Instructions for updating:\n",
            "If using Keras pass *_constraint arguments to layers.\n",
            "Downloading data from https://github.com/keras-team/keras-applications/releases/download/resnet/resnet50_weights_tf_dim_ordering_tf_kernels_notop.h5\n",
            "94773248/94765736 [==============================] - 2s 0us/step\n"
          ],
          "name": "stdout"
        }
      ]
    },
    {
      "cell_type": "code",
      "metadata": {
        "id": "DJ0HFOoen4R6",
        "colab_type": "code",
        "outputId": "3c1592b1-6ea3-458d-de0e-6fb8a34e3a2f",
        "colab": {
          "base_uri": "https://localhost:8080/",
          "height": 1000
        }
      },
      "source": [
        "model.compile(loss='categorical_crossentropy',optimizer='adam',metrics=['accuracy'])\n",
        "\n",
        "t=time.time()\n",
        "historytemp = model.fit_generator(datagen.flow(x_train, y_train,\n",
        "                                  batch_size=64),\n",
        "                                  steps_per_epoch=x_train.shape[0] // 64,\n",
        "                                  epochs=15,\n",
        "                                  validation_data=(x_test, y_test))\n",
        "print('Training time: %s' % (t - time.time()))"
      ],
      "execution_count": 6,
      "outputs": [
        {
          "output_type": "stream",
          "text": [
            "Epoch 1/15\n",
            "780/781 [============================>.] - ETA: 1s - loss: 2.1156 - acc: 0.3209Epoch 1/15\n",
            "10000/781 [================================================================================================================================================================================================================================================================================================================================================================================================] - 89s 9ms/sample - loss: 1.1586 - acc: 0.6982\n",
            "781/781 [==============================] - 1205s 2s/step - loss: 2.1148 - acc: 0.3213 - val_loss: 1.0326 - val_acc: 0.6982\n",
            "Epoch 2/15\n",
            "780/781 [============================>.] - ETA: 1s - loss: 1.2325 - acc: 0.6373Epoch 1/15\n",
            "10000/781 [================================================================================================================================================================================================================================================================================================================================================================================================] - 87s 9ms/sample - loss: 0.9020 - acc: 0.7498\n",
            "781/781 [==============================] - 1181s 2s/step - loss: 1.2326 - acc: 0.6374 - val_loss: 0.8417 - val_acc: 0.7498\n",
            "Epoch 3/15\n",
            "780/781 [============================>.] - ETA: 1s - loss: 1.0281 - acc: 0.6985Epoch 1/15\n",
            "10000/781 [================================================================================================================================================================================================================================================================================================================================================================================================] - 88s 9ms/sample - loss: 0.9412 - acc: 0.7664\n",
            "781/781 [==============================] - 1182s 2s/step - loss: 1.0278 - acc: 0.6985 - val_loss: 0.7850 - val_acc: 0.7664\n",
            "Epoch 4/15\n",
            "780/781 [============================>.] - ETA: 1s - loss: 0.9265 - acc: 0.7286Epoch 1/15\n",
            "10000/781 [================================================================================================================================================================================================================================================================================================================================================================================================] - 88s 9ms/sample - loss: 0.8141 - acc: 0.7719\n",
            "781/781 [==============================] - 1183s 2s/step - loss: 0.9267 - acc: 0.7286 - val_loss: 0.7488 - val_acc: 0.7719\n",
            "Epoch 5/15\n",
            "780/781 [============================>.] - ETA: 1s - loss: 0.8540 - acc: 0.7480Epoch 1/15\n",
            "10000/781 [================================================================================================================================================================================================================================================================================================================================================================================================] - 88s 9ms/sample - loss: 0.8665 - acc: 0.7786\n",
            "781/781 [==============================] - 1182s 2s/step - loss: 0.8541 - acc: 0.7480 - val_loss: 0.7348 - val_acc: 0.7786\n",
            "Epoch 6/15\n",
            "780/781 [============================>.] - ETA: 1s - loss: 0.7965 - acc: 0.7649Epoch 1/15\n",
            "10000/781 [================================================================================================================================================================================================================================================================================================================================================================================================] - 88s 9ms/sample - loss: 0.8063 - acc: 0.7915\n",
            "781/781 [==============================] - 1183s 2s/step - loss: 0.7967 - acc: 0.7649 - val_loss: 0.7036 - val_acc: 0.7915\n",
            "Epoch 7/15\n",
            "780/781 [============================>.] - ETA: 1s - loss: 0.7512 - acc: 0.7743Epoch 1/15\n",
            "10000/781 [================================================================================================================================================================================================================================================================================================================================================================================================] - 88s 9ms/sample - loss: 0.8017 - acc: 0.7900\n",
            "781/781 [==============================] - 1183s 2s/step - loss: 0.7513 - acc: 0.7743 - val_loss: 0.6965 - val_acc: 0.7900\n",
            "Epoch 8/15\n",
            "780/781 [============================>.] - ETA: 1s - loss: 0.7064 - acc: 0.7882Epoch 1/15\n",
            "10000/781 [================================================================================================================================================================================================================================================================================================================================================================================================] - 88s 9ms/sample - loss: 0.7548 - acc: 0.7932\n",
            "781/781 [==============================] - 1184s 2s/step - loss: 0.7065 - acc: 0.7882 - val_loss: 0.6974 - val_acc: 0.7932\n",
            "Epoch 9/15\n",
            "780/781 [============================>.] - ETA: 1s - loss: 0.6778 - acc: 0.7977Epoch 1/15\n",
            "10000/781 [================================================================================================================================================================================================================================================================================================================================================================================================] - 87s 9ms/sample - loss: 0.8839 - acc: 0.7929\n",
            "781/781 [==============================] - 1182s 2s/step - loss: 0.6782 - acc: 0.7977 - val_loss: 0.7068 - val_acc: 0.7929\n",
            "Epoch 10/15\n",
            "780/781 [============================>.] - ETA: 1s - loss: 0.6424 - acc: 0.8023Epoch 1/15\n",
            "10000/781 [================================================================================================================================================================================================================================================================================================================================================================================================] - 88s 9ms/sample - loss: 0.8925 - acc: 0.7913\n",
            "781/781 [==============================] - 1182s 2s/step - loss: 0.6427 - acc: 0.8023 - val_loss: 0.7044 - val_acc: 0.7913\n",
            "Epoch 11/15\n",
            "780/781 [============================>.] - ETA: 1s - loss: 0.6176 - acc: 0.8104Epoch 1/15\n",
            "10000/781 [================================================================================================================================================================================================================================================================================================================================================================================================] - 87s 9ms/sample - loss: 0.7738 - acc: 0.7998\n",
            "781/781 [==============================] - 1182s 2s/step - loss: 0.6177 - acc: 0.8104 - val_loss: 0.6885 - val_acc: 0.7998\n",
            "Epoch 12/15\n",
            "780/781 [============================>.] - ETA: 1s - loss: 0.5839 - acc: 0.8214Epoch 1/15\n",
            "10000/781 [================================================================================================================================================================================================================================================================================================================================================================================================] - 88s 9ms/sample - loss: 0.9406 - acc: 0.8026\n",
            "781/781 [==============================] - 1182s 2s/step - loss: 0.5840 - acc: 0.8214 - val_loss: 0.6886 - val_acc: 0.8026\n",
            "Epoch 13/15\n",
            "780/781 [============================>.] - ETA: 1s - loss: 0.5678 - acc: 0.8242Epoch 1/15\n",
            "10000/781 [================================================================================================================================================================================================================================================================================================================================================================================================] - 87s 9ms/sample - loss: 0.9731 - acc: 0.8003\n",
            "781/781 [==============================] - 1182s 2s/step - loss: 0.5677 - acc: 0.8242 - val_loss: 0.6960 - val_acc: 0.8003\n",
            "Epoch 14/15\n",
            "780/781 [============================>.] - ETA: 1s - loss: 0.5411 - acc: 0.8346Epoch 1/15\n",
            "10000/781 [================================================================================================================================================================================================================================================================================================================================================================================================] - 88s 9ms/sample - loss: 1.0550 - acc: 0.7990\n",
            "781/781 [==============================] - 1183s 2s/step - loss: 0.5412 - acc: 0.8346 - val_loss: 0.7002 - val_acc: 0.7990\n",
            "Epoch 15/15\n",
            "780/781 [============================>.] - ETA: 1s - loss: 0.5187 - acc: 0.8391Epoch 1/15\n",
            "10000/781 [================================================================================================================================================================================================================================================================================================================================================================================================] - 88s 9ms/sample - loss: 0.9982 - acc: 0.7988\n",
            "781/781 [==============================] - 1181s 2s/step - loss: 0.5186 - acc: 0.8391 - val_loss: 0.7184 - val_acc: 0.7988\n"
          ],
          "name": "stdout"
        },
        {
          "output_type": "error",
          "ename": "ValueError",
          "evalue": "ignored",
          "traceback": [
            "\u001b[0;31m---------------------------------------------------------------------------\u001b[0m",
            "\u001b[0;31mValueError\u001b[0m                                Traceback (most recent call last)",
            "\u001b[0;32m<ipython-input-6-89e94d4d1fc3>\u001b[0m in \u001b[0;36m<module>\u001b[0;34m()\u001b[0m\n\u001b[1;32m      7\u001b[0m                                   \u001b[0mepochs\u001b[0m\u001b[0;34m=\u001b[0m\u001b[0;36m15\u001b[0m\u001b[0;34m,\u001b[0m\u001b[0;34m\u001b[0m\u001b[0;34m\u001b[0m\u001b[0m\n\u001b[1;32m      8\u001b[0m                                   validation_data=(x_test, y_test))\n\u001b[0;32m----> 9\u001b[0;31m \u001b[0mmodel\u001b[0m\u001b[0;34m.\u001b[0m\u001b[0mfit\u001b[0m\u001b[0;34m(\u001b[0m\u001b[0;34m)\u001b[0m\u001b[0;34m\u001b[0m\u001b[0;34m\u001b[0m\u001b[0m\n\u001b[0m\u001b[1;32m     10\u001b[0m \u001b[0mprint\u001b[0m\u001b[0;34m(\u001b[0m\u001b[0;34m'Training time: %s'\u001b[0m \u001b[0;34m%\u001b[0m \u001b[0;34m(\u001b[0m\u001b[0mt\u001b[0m \u001b[0;34m-\u001b[0m \u001b[0mtime\u001b[0m\u001b[0;34m.\u001b[0m\u001b[0mtime\u001b[0m\u001b[0;34m(\u001b[0m\u001b[0;34m)\u001b[0m\u001b[0;34m)\u001b[0m\u001b[0;34m)\u001b[0m\u001b[0;34m\u001b[0m\u001b[0;34m\u001b[0m\u001b[0m\n",
            "\u001b[0;32m/usr/local/lib/python3.6/dist-packages/tensorflow_core/python/keras/engine/training.py\u001b[0m in \u001b[0;36mfit\u001b[0;34m(self, x, y, batch_size, epochs, verbose, callbacks, validation_split, validation_data, shuffle, class_weight, sample_weight, initial_epoch, steps_per_epoch, validation_steps, validation_freq, max_queue_size, workers, use_multiprocessing, **kwargs)\u001b[0m\n\u001b[1;32m    725\u001b[0m         \u001b[0mmax_queue_size\u001b[0m\u001b[0;34m=\u001b[0m\u001b[0mmax_queue_size\u001b[0m\u001b[0;34m,\u001b[0m\u001b[0;34m\u001b[0m\u001b[0;34m\u001b[0m\u001b[0m\n\u001b[1;32m    726\u001b[0m         \u001b[0mworkers\u001b[0m\u001b[0;34m=\u001b[0m\u001b[0mworkers\u001b[0m\u001b[0;34m,\u001b[0m\u001b[0;34m\u001b[0m\u001b[0;34m\u001b[0m\u001b[0m\n\u001b[0;32m--> 727\u001b[0;31m         use_multiprocessing=use_multiprocessing)\n\u001b[0m\u001b[1;32m    728\u001b[0m \u001b[0;34m\u001b[0m\u001b[0m\n\u001b[1;32m    729\u001b[0m   def evaluate(self,\n",
            "\u001b[0;32m/usr/local/lib/python3.6/dist-packages/tensorflow_core/python/keras/engine/training_arrays.py\u001b[0m in \u001b[0;36mfit\u001b[0;34m(self, model, x, y, batch_size, epochs, verbose, callbacks, validation_split, validation_data, shuffle, class_weight, sample_weight, initial_epoch, steps_per_epoch, validation_steps, validation_freq, **kwargs)\u001b[0m\n\u001b[1;32m    641\u001b[0m         \u001b[0msteps\u001b[0m\u001b[0;34m=\u001b[0m\u001b[0msteps_per_epoch\u001b[0m\u001b[0;34m,\u001b[0m\u001b[0;34m\u001b[0m\u001b[0;34m\u001b[0m\u001b[0m\n\u001b[1;32m    642\u001b[0m         \u001b[0mvalidation_split\u001b[0m\u001b[0;34m=\u001b[0m\u001b[0mvalidation_split\u001b[0m\u001b[0;34m,\u001b[0m\u001b[0;34m\u001b[0m\u001b[0;34m\u001b[0m\u001b[0m\n\u001b[0;32m--> 643\u001b[0;31m         shuffle=shuffle)\n\u001b[0m\u001b[1;32m    644\u001b[0m \u001b[0;34m\u001b[0m\u001b[0m\n\u001b[1;32m    645\u001b[0m     \u001b[0;32mif\u001b[0m \u001b[0mvalidation_data\u001b[0m\u001b[0;34m:\u001b[0m\u001b[0;34m\u001b[0m\u001b[0;34m\u001b[0m\u001b[0m\n",
            "\u001b[0;32m/usr/local/lib/python3.6/dist-packages/tensorflow_core/python/keras/engine/training.py\u001b[0m in \u001b[0;36m_standardize_user_data\u001b[0;34m(self, x, y, sample_weight, class_weight, batch_size, check_steps, steps_name, steps, validation_split, shuffle, extract_tensors_from_dataset)\u001b[0m\n\u001b[1;32m   2412\u001b[0m     \u001b[0;31m# Validates `steps` argument based on x's type.\u001b[0m\u001b[0;34m\u001b[0m\u001b[0;34m\u001b[0m\u001b[0;34m\u001b[0m\u001b[0m\n\u001b[1;32m   2413\u001b[0m     \u001b[0;32mif\u001b[0m \u001b[0mcheck_steps\u001b[0m\u001b[0;34m:\u001b[0m\u001b[0;34m\u001b[0m\u001b[0;34m\u001b[0m\u001b[0m\n\u001b[0;32m-> 2414\u001b[0;31m       \u001b[0mtraining_utils\u001b[0m\u001b[0;34m.\u001b[0m\u001b[0mcheck_steps_argument\u001b[0m\u001b[0;34m(\u001b[0m\u001b[0mx\u001b[0m\u001b[0;34m,\u001b[0m \u001b[0msteps\u001b[0m\u001b[0;34m,\u001b[0m \u001b[0msteps_name\u001b[0m\u001b[0;34m)\u001b[0m\u001b[0;34m\u001b[0m\u001b[0;34m\u001b[0m\u001b[0m\n\u001b[0m\u001b[1;32m   2415\u001b[0m \u001b[0;34m\u001b[0m\u001b[0m\n\u001b[1;32m   2416\u001b[0m     \u001b[0;31m# First, we build the model on the fly if necessary.\u001b[0m\u001b[0;34m\u001b[0m\u001b[0;34m\u001b[0m\u001b[0;34m\u001b[0m\u001b[0m\n",
            "\u001b[0;32m/usr/local/lib/python3.6/dist-packages/tensorflow_core/python/keras/engine/training_utils.py\u001b[0m in \u001b[0;36mcheck_steps_argument\u001b[0;34m(input_data, steps, steps_name)\u001b[0m\n\u001b[1;32m   1197\u001b[0m       raise ValueError('When using {input_type} as input to a model, you should'\n\u001b[1;32m   1198\u001b[0m                        ' specify the `{steps_name}` argument.'.format(\n\u001b[0;32m-> 1199\u001b[0;31m                            input_type=input_type_str, steps_name=steps_name))\n\u001b[0m\u001b[1;32m   1200\u001b[0m     \u001b[0;32mreturn\u001b[0m \u001b[0;32mTrue\u001b[0m\u001b[0;34m\u001b[0m\u001b[0;34m\u001b[0m\u001b[0m\n\u001b[1;32m   1201\u001b[0m \u001b[0;34m\u001b[0m\u001b[0m\n",
            "\u001b[0;31mValueError\u001b[0m: When using data tensors as input to a model, you should specify the `steps_per_epoch` argument."
          ]
        }
      ]
    },
    {
      "cell_type": "code",
      "metadata": {
        "id": "-WsUOYLgqVBw",
        "colab_type": "code",
        "outputId": "fa98f840-125c-4abe-b3f7-4de12a62d24d",
        "colab": {
          "base_uri": "https://localhost:8080/",
          "height": 454
        }
      },
      "source": [
        "model.summary()"
      ],
      "execution_count": 7,
      "outputs": [
        {
          "output_type": "stream",
          "text": [
            "Model: \"sequential\"\n",
            "_________________________________________________________________\n",
            "Layer (type)                 Output Shape              Param #   \n",
            "=================================================================\n",
            "up_sampling2d (UpSampling2D) multiple                  0         \n",
            "_________________________________________________________________\n",
            "up_sampling2d_1 (UpSampling2 multiple                  0         \n",
            "_________________________________________________________________\n",
            "up_sampling2d_2 (UpSampling2 multiple                  0         \n",
            "_________________________________________________________________\n",
            "resnet50 (Model)             (None, 7, 7, 2048)        23587712  \n",
            "_________________________________________________________________\n",
            "global_average_pooling2d (Gl multiple                  0         \n",
            "_________________________________________________________________\n",
            "dense (Dense)                multiple                  524544    \n",
            "_________________________________________________________________\n",
            "dropout (Dropout)            multiple                  0         \n",
            "_________________________________________________________________\n",
            "batch_normalization (BatchNo multiple                  1024      \n",
            "_________________________________________________________________\n",
            "dense_1 (Dense)              multiple                  25700     \n",
            "=================================================================\n",
            "Total params: 24,138,980\n",
            "Trainable params: 603,876\n",
            "Non-trainable params: 23,535,104\n",
            "_________________________________________________________________\n"
          ],
          "name": "stdout"
        }
      ]
    }
  ]
}